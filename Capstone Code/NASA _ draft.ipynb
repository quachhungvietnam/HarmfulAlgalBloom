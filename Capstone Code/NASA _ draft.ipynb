{
 "cells": [
  {
   "cell_type": "code",
   "execution_count": 1,
   "metadata": {},
   "outputs": [],
   "source": [
    "import os\n",
    "import numpy as np\n",
    "import matplotlib as mpl\n",
    "import matplotlib.pyplot as plt"
   ]
  },
  {
   "cell_type": "code",
   "execution_count": 2,
   "metadata": {},
   "outputs": [
    {
     "name": "stdout",
     "output_type": "stream",
     "text": [
      "Requirement already satisfied: netCDF4 in /opt/anaconda3/lib/python3.7/site-packages (1.5.3)\n",
      "Requirement already satisfied: numpy>=1.7 in /opt/anaconda3/lib/python3.7/site-packages (from netCDF4) (1.18.4)\n",
      "Requirement already satisfied: cftime in /opt/anaconda3/lib/python3.7/site-packages (from netCDF4) (1.1.3)\n",
      "Note: you may need to restart the kernel to use updated packages.\n"
     ]
    }
   ],
   "source": [
    "pip install netCDF4"
   ]
  },
  {
   "cell_type": "code",
   "execution_count": 3,
   "metadata": {},
   "outputs": [],
   "source": [
    "from mpl_toolkits.basemap import Basemap\n",
    "from netCDF4 import Dataset"
   ]
  },
  {
   "cell_type": "code",
   "execution_count": 14,
   "metadata": {},
   "outputs": [],
   "source": [
    "import netCDF4\n",
    "fp = 'trial.nc4'\n",
    "data = netCDF4.Dataset(fp)"
   ]
  },
  {
   "cell_type": "code",
   "execution_count": 49,
   "metadata": {},
   "outputs": [
    {
     "data": {
      "text/plain": [
       "array([-180.  , -178.75, -177.5 , -176.25, -175.  , -173.75, -172.5 ,\n",
       "       -171.25, -170.  , -168.75, -167.5 , -166.25, -165.  , -163.75,\n",
       "       -162.5 , -161.25, -160.  , -158.75, -157.5 , -156.25, -155.  ,\n",
       "       -153.75, -152.5 , -151.25, -150.  , -148.75, -147.5 , -146.25,\n",
       "       -145.  , -143.75, -142.5 , -141.25, -140.  , -138.75, -137.5 ,\n",
       "       -136.25, -135.  , -133.75, -132.5 , -131.25, -130.  , -128.75,\n",
       "       -127.5 , -126.25, -125.  , -123.75, -122.5 , -121.25, -120.  ,\n",
       "       -118.75, -117.5 , -116.25, -115.  , -113.75, -112.5 , -111.25,\n",
       "       -110.  , -108.75, -107.5 , -106.25, -105.  , -103.75, -102.5 ,\n",
       "       -101.25, -100.  ,  -98.75,  -97.5 ,  -96.25,  -95.  ,  -93.75,\n",
       "        -92.5 ,  -91.25,  -90.  ,  -88.75,  -87.5 ,  -86.25,  -85.  ,\n",
       "        -83.75,  -82.5 ,  -81.25,  -80.  ,  -78.75,  -77.5 ,  -76.25,\n",
       "        -75.  ,  -73.75,  -72.5 ,  -71.25,  -70.  ,  -68.75,  -67.5 ,\n",
       "        -66.25,  -65.  ,  -63.75,  -62.5 ,  -61.25,  -60.  ,  -58.75,\n",
       "        -57.5 ,  -56.25,  -55.  ,  -53.75,  -52.5 ,  -51.25,  -50.  ,\n",
       "        -48.75,  -47.5 ,  -46.25,  -45.  ,  -43.75,  -42.5 ,  -41.25,\n",
       "        -40.  ,  -38.75,  -37.5 ,  -36.25,  -35.  ,  -33.75,  -32.5 ,\n",
       "        -31.25,  -30.  ,  -28.75,  -27.5 ,  -26.25,  -25.  ,  -23.75,\n",
       "        -22.5 ,  -21.25,  -20.  ,  -18.75,  -17.5 ,  -16.25,  -15.  ,\n",
       "        -13.75,  -12.5 ,  -11.25,  -10.  ,   -8.75,   -7.5 ,   -6.25,\n",
       "         -5.  ,   -3.75,   -2.5 ,   -1.25,    0.  ,    1.25,    2.5 ,\n",
       "          3.75,    5.  ,    6.25,    7.5 ,    8.75,   10.  ,   11.25,\n",
       "         12.5 ,   13.75,   15.  ,   16.25,   17.5 ,   18.75,   20.  ,\n",
       "         21.25,   22.5 ,   23.75,   25.  ,   26.25,   27.5 ,   28.75,\n",
       "         30.  ,   31.25,   32.5 ,   33.75,   35.  ,   36.25,   37.5 ,\n",
       "         38.75,   40.  ,   41.25,   42.5 ,   43.75,   45.  ,   46.25,\n",
       "         47.5 ,   48.75,   50.  ,   51.25,   52.5 ,   53.75,   55.  ,\n",
       "         56.25,   57.5 ,   58.75,   60.  ,   61.25,   62.5 ,   63.75,\n",
       "         65.  ,   66.25,   67.5 ,   68.75,   70.  ,   71.25,   72.5 ,\n",
       "         73.75,   75.  ,   76.25,   77.5 ,   78.75,   80.  ,   81.25,\n",
       "         82.5 ,   83.75,   85.  ,   86.25,   87.5 ,   88.75,   90.  ,\n",
       "         91.25,   92.5 ,   93.75,   95.  ,   96.25,   97.5 ,   98.75,\n",
       "        100.  ,  101.25,  102.5 ,  103.75,  105.  ,  106.25,  107.5 ,\n",
       "        108.75,  110.  ,  111.25,  112.5 ,  113.75,  115.  ,  116.25,\n",
       "        117.5 ,  118.75,  120.  ,  121.25,  122.5 ,  123.75,  125.  ,\n",
       "        126.25,  127.5 ,  128.75,  130.  ,  131.25,  132.5 ,  133.75,\n",
       "        135.  ,  136.25,  137.5 ,  138.75,  140.  ,  141.25,  142.5 ,\n",
       "        143.75,  145.  ,  146.25,  147.5 ,  148.75,  150.  ,  151.25,\n",
       "        152.5 ,  153.75,  155.  ,  156.25,  157.5 ,  158.75,  160.  ,\n",
       "        161.25,  162.5 ,  163.75,  165.  ,  166.25,  167.5 ,  168.75,\n",
       "        170.  ,  171.25,  172.5 ,  173.75,  175.  ,  176.25,  177.5 ,\n",
       "        178.75], dtype=float32)"
      ]
     },
     "execution_count": 49,
     "metadata": {},
     "output_type": "execute_result"
    }
   ],
   "source": [
    "data.variables['lon'][:].data"
   ]
  },
  {
   "cell_type": "code",
   "execution_count": 15,
   "metadata": {},
   "outputs": [
    {
     "ename": "KeyError",
     "evalue": "'T2M'",
     "output_type": "error",
     "traceback": [
      "\u001b[0;31m---------------------------------------------------------------------------\u001b[0m",
      "\u001b[0;31mKeyError\u001b[0m                                  Traceback (most recent call last)",
      "\u001b[0;32m<ipython-input-15-4bd3916823b6>\u001b[0m in \u001b[0;36m<module>\u001b[0;34m\u001b[0m\n\u001b[1;32m      1\u001b[0m \u001b[0mlons\u001b[0m \u001b[0;34m=\u001b[0m \u001b[0mdata\u001b[0m\u001b[0;34m.\u001b[0m\u001b[0mvariables\u001b[0m\u001b[0;34m[\u001b[0m\u001b[0;34m'lon'\u001b[0m\u001b[0;34m]\u001b[0m\u001b[0;34m[\u001b[0m\u001b[0;34m:\u001b[0m\u001b[0;34m]\u001b[0m\u001b[0;34m\u001b[0m\u001b[0;34m\u001b[0m\u001b[0m\n\u001b[1;32m      2\u001b[0m \u001b[0mlats\u001b[0m \u001b[0;34m=\u001b[0m \u001b[0mdata\u001b[0m\u001b[0;34m.\u001b[0m\u001b[0mvariables\u001b[0m\u001b[0;34m[\u001b[0m\u001b[0;34m'lat'\u001b[0m\u001b[0;34m]\u001b[0m\u001b[0;34m[\u001b[0m\u001b[0;34m:\u001b[0m\u001b[0;34m]\u001b[0m\u001b[0;34m\u001b[0m\u001b[0;34m\u001b[0m\u001b[0m\n\u001b[0;32m----> 3\u001b[0;31m \u001b[0mT2M\u001b[0m \u001b[0;34m=\u001b[0m \u001b[0mdata\u001b[0m\u001b[0;34m.\u001b[0m\u001b[0mvariables\u001b[0m\u001b[0;34m[\u001b[0m\u001b[0;34m'T2M'\u001b[0m\u001b[0;34m]\u001b[0m\u001b[0;34m[\u001b[0m\u001b[0;34m:\u001b[0m\u001b[0;34m,\u001b[0m\u001b[0;34m:\u001b[0m\u001b[0;34m,\u001b[0m\u001b[0;34m:\u001b[0m\u001b[0;34m]\u001b[0m\u001b[0;34m\u001b[0m\u001b[0;34m\u001b[0m\u001b[0m\n\u001b[0m",
      "\u001b[0;31mKeyError\u001b[0m: 'T2M'"
     ]
    }
   ],
   "source": [
    "lons = data.variables['lon'][:]\n",
    "lats = data.variables['lat'][:]\n",
    "T2M = data.variables['T2M'][:,:,:]"
   ]
  },
  {
   "cell_type": "code",
   "execution_count": 59,
   "metadata": {},
   "outputs": [],
   "source": [
    "keys = list(data.variables.keys())"
   ]
  },
  {
   "cell_type": "code",
   "execution_count": 51,
   "metadata": {},
   "outputs": [
    {
     "data": {
      "text/plain": [
       "array([[[ True,  True,  True, ...,  True,  True,  True],\n",
       "        [ True,  True,  True, ...,  True,  True,  True],\n",
       "        [ True,  True,  True, ...,  True,  True,  True],\n",
       "        ...,\n",
       "        [ True,  True,  True, ...,  True,  True,  True],\n",
       "        [ True,  True,  True, ...,  True,  True,  True],\n",
       "        [ True,  True,  True, ...,  True,  True,  True]]])"
      ]
     },
     "execution_count": 51,
     "metadata": {},
     "output_type": "execute_result"
    }
   ],
   "source": [
    "data.variables['chl'][:].mask "
   ]
  },
  {
   "cell_type": "code",
   "execution_count": 58,
   "metadata": {},
   "outputs": [],
   "source": [
    "if data.variables['lon'][:].mask.any():\n",
    "    print(\"haha\")"
   ]
  },
  {
   "cell_type": "code",
   "execution_count": 61,
   "metadata": {},
   "outputs": [
    {
     "name": "stdout",
     "output_type": "stream",
     "text": [
      "tot is invalid\n",
      "chl is invalid\n",
      "dia is invalid\n",
      "coc is invalid\n",
      "cya is invalid\n",
      "irn is invalid\n",
      "rno is invalid\n",
      "h is invalid\n",
      "ice is invalid\n",
      "time is valid\n",
      "lat is valid\n",
      "lon is valid\n"
     ]
    }
   ],
   "source": [
    "for key in keys:\n",
    "    if data.variables[key][:].mask.any():\n",
    "        print(key, \"is invalid\")\n",
    "    else:\n",
    "        print(key, 'is valid')\n",
    "        #print(data.variables[key][:].data)"
   ]
  },
  {
   "cell_type": "code",
   "execution_count": null,
   "metadata": {},
   "outputs": [],
   "source": []
  }
 ],
 "metadata": {
  "kernelspec": {
   "display_name": "Python 3",
   "language": "python",
   "name": "python3"
  },
  "language_info": {
   "codemirror_mode": {
    "name": "ipython",
    "version": 3
   },
   "file_extension": ".py",
   "mimetype": "text/x-python",
   "name": "python",
   "nbconvert_exporter": "python",
   "pygments_lexer": "ipython3",
   "version": "3.7.4"
  }
 },
 "nbformat": 4,
 "nbformat_minor": 2
}
