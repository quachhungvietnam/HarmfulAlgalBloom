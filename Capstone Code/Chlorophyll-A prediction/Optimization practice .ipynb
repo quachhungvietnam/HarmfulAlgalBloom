{
 "cells": [
  {
   "cell_type": "code",
   "execution_count": 1,
   "metadata": {},
   "outputs": [],
   "source": [
    "import numpy as np\n",
    "import matplotlib.pyplot as plt\n",
    "from scipy import optimize"
   ]
  },
  {
   "cell_type": "markdown",
   "metadata": {},
   "source": [
    "## Tutorial\n",
    "https://docs.scipy.org/doc/scipy/reference/tutorial/optimize.html#constrained-minimization-of-multivariate-scalar-functions-minimize"
   ]
  },
  {
   "cell_type": "code",
   "execution_count": 2,
   "metadata": {},
   "outputs": [
    {
     "name": "stdout",
     "output_type": "stream",
     "text": [
      "Optimization terminated successfully.\n",
      "         Current function value: 25.000000\n",
      "         Iterations: 109\n",
      "         Function evaluations: 206\n"
     ]
    },
    {
     "data": {
      "text/plain": [
       "array([15.        ,  4.99999999])"
      ]
     },
     "execution_count": 2,
     "metadata": {},
     "output_type": "execute_result"
    }
   ],
   "source": [
    "X = np.array([1,2,3])\n",
    "y = np.array([20,10,50])\n",
    "def ln_reg(param):\n",
    "    global X, y\n",
    "    a, b = param\n",
    "    y_pred = a*X + b\n",
    "    diff = y_pred - y\n",
    "    return sum(abs(diff))\n",
    "\n",
    "param0 = np.array([1,1])\n",
    "res = optimize.minimize(ln_reg, param0, method='nelder-mead',\n",
    "                       options={'xatol': 1e-8, 'disp': True})\n",
    "res.x"
   ]
  },
  {
   "cell_type": "code",
   "execution_count": 3,
   "metadata": {},
   "outputs": [
    {
     "data": {
      "text/plain": [
       "array([15.])"
      ]
     },
     "execution_count": 3,
     "metadata": {},
     "output_type": "execute_result"
    }
   ],
   "source": [
    "from sklearn.linear_model import LinearRegression\n",
    "reg = LinearRegression().fit(X.reshape(-1,1),y)\n",
    "reg.coef_"
   ]
  },
  {
   "cell_type": "code",
   "execution_count": 4,
   "metadata": {},
   "outputs": [],
   "source": [
    "def standard_constraint(param):\n",
    "    a1, a2, standard = param\n",
    "    return a1 - standard*a2"
   ]
  },
  {
   "cell_type": "code",
   "execution_count": 50,
   "metadata": {},
   "outputs": [],
   "source": [
    "#Without using class:\n",
    "def chlorophyll_function(phosphate_rate, nitrate_rate, phosphate, nitrate):\n",
    "    \"\"\"\n",
    "    Function that model the chlorophyll\n",
    "    \"\"\"\n",
    "    return phosphate_rate*phosphate + nitrate_rate*nitrate\n",
    "\n",
    "def objective_function(rate_parameters):\n",
    "    \"\"\"\n",
    "    Function of the difference between the \n",
    "    predicted chlorophyll (from the chlorophyll_function)\n",
    "    and the actual chlorophyll\n",
    "    \"\"\"\n",
    "    global train_phosphate, train_nitrate, train_chlorophyll\n",
    "    phosphate_rate, nitrate_rate = rate_parameters\n",
    "    predicted_chlorophyll = chlorophyll_function(phosphate_rate, nitrate_rate, \n",
    "                                                 train_phosphate, train_nitrate)\n",
    "    difference = train_chlorophyll - predicted_chlorophyll\n",
    "    return np.sum(difference**2)\n",
    "\n",
    "def constraint_1():\n",
    "    \"\"\"\n",
    "    Constraint that all the components of the parameter array are positive. \n",
    "    \"\"\"\n",
    "    lower_bound = [0,0] #Greater than 0\n",
    "    upper_bound = [np.inf, np.inf]\n",
    "    T_matrix = [[1,0],[0,1]] #Transfer the parameter array to corresponding components\n",
    "    return optimize.LinearConstraint(T_matrix, lower_bound, upper_bound)\n",
    "\n",
    "def func_of_constraint_2():\n",
    "    \"\"\"\n",
    "    rate P/ rate N - N_over_P_standard\n",
    "    PRESUME N_over_P_standard = 10\n",
    "    \n",
    "    \"\"\"\n",
    "    return lambda x: x[0] - x[1]*10\n",
    "\n",
    "def constraint_2():\n",
    "    function = lambda x: x[0] - x[1]*10\n",
    "    deviation = 10**(-3)\n",
    "    return optimize.NonlinearConstraint(function, 0-deviation, 0+deviation)\n",
    "    \n",
    "def model_result(train_phosphate, train_nitrate, train_chlorophyll):\n",
    "    \"\"\"\n",
    "    Minimize the objective function to get the optimized \n",
    "    phosphate_rate and nitrate_rate\n",
    "    \"\"\"\n",
    "    model = optimize.minimize(objective_function, np.array([0,0]),\n",
    "                              constraints=[constraint_1(), constraint_2()])\n",
    "    return model.x\n",
    "\n",
    "def predict(X):\n",
    "    \"\"\"\n",
    "    Predict the chlorophyll from the given phosphate and nitrate \n",
    "    \"\"\"\n",
    "    return 0"
   ]
  },
  {
   "cell_type": "code",
   "execution_count": 51,
   "metadata": {},
   "outputs": [
    {
     "data": {
      "text/plain": [
       "array([1.45164395, 0.1452644 ])"
      ]
     },
     "execution_count": 51,
     "metadata": {},
     "output_type": "execute_result"
    }
   ],
   "source": [
    "train_phosphate = np.array([1,2,3,4])\n",
    "train_nitrate = np.array([1,3,2,5])\n",
    "train_chlorophyll = np.array([1,5,3,7])\n",
    "model_result(train_phosphate, train_nitrate, train_chlorophyll)"
   ]
  },
  {
   "cell_type": "code",
   "execution_count": 21,
   "metadata": {},
   "outputs": [],
   "source": [
    "model = NutrientModel()\n",
    "phosphate = np.array([1,2,3,4])\n",
    "nitrate = np.array([1,3,2,5])\n",
    "chlorophyll = np.array([1,5,3,7])\n",
    "model.fit(phosphate,nitrate,chlorophyll)"
   ]
  },
  {
   "cell_type": "code",
   "execution_count": 9,
   "metadata": {},
   "outputs": [
    {
     "data": {
      "text/plain": [
       "-0.11111110008150264"
      ]
     },
     "execution_count": 9,
     "metadata": {},
     "output_type": "execute_result"
    }
   ],
   "source": [
    "model.phosphate_rate"
   ]
  }
 ],
 "metadata": {
  "kernelspec": {
   "display_name": "Python 3",
   "language": "python",
   "name": "python3"
  },
  "language_info": {
   "codemirror_mode": {
    "name": "ipython",
    "version": 3
   },
   "file_extension": ".py",
   "mimetype": "text/x-python",
   "name": "python",
   "nbconvert_exporter": "python",
   "pygments_lexer": "ipython3",
   "version": "3.7.4"
  }
 },
 "nbformat": 4,
 "nbformat_minor": 2
}
