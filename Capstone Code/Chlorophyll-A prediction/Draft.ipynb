{
 "cells": [
  {
   "cell_type": "code",
   "execution_count": null,
   "metadata": {},
   "outputs": [],
   "source": [
    "a1_array = np.linspace(0,1,10)\n",
    "a2_array = np.linspace(0,1,10)\n",
    "c1_array = np.linspace(10,100,10)\n",
    "N_over_P_standard_array = np.arange(1,20)\n",
    "mae_array = []\n",
    "\n",
    "for a1 in a1_array:\n",
    "    for a2 in a2_array:\n",
    "        for c1 in c1_array:\n",
    "            for N_over_P_standard in N_over_P_standard_array:\n",
    "                mae_array.append(chl_abs_error(N_over_P_standard, a1, a2, c1,\n",
    "                                              nitrate_array, phosphate_array, true_chl_array))\n",
    "                \n",
    "array_1 = []\n",
    "array_2 = []\n",
    "array_3 = []\n",
    "array_4 = []\n",
    "for a1 in a1_array:\n",
    "    for a2 in a2_array:\n",
    "        for c1 in c1_array:\n",
    "            for N_over_P_standard in N_over_P_standard_array:\n",
    "                array_1.append(a1)\n",
    "                array_2.append(a2)\n",
    "                array_3.append(c1)\n",
    "                array_4.append(N_over_P_standard)\n",
    "                \n",
    "opt_table = pd.DataFrame({'a1': array_1,\n",
    "                        'a2': array_2,\n",
    "                        'c1': array_3,\n",
    "                        'N/P standard': array_4,\n",
    "                        'MAE': mae_array})\n",
    "opt_table.sort_values(by='MAE')"
   ]
  }
 ],
 "metadata": {
  "kernelspec": {
   "display_name": "Python 3",
   "language": "python",
   "name": "python3"
  },
  "language_info": {
   "codemirror_mode": {
    "name": "ipython",
    "version": 3
   },
   "file_extension": ".py",
   "mimetype": "text/x-python",
   "name": "python",
   "nbconvert_exporter": "python",
   "pygments_lexer": "ipython3",
   "version": "3.7.4"
  }
 },
 "nbformat": 4,
 "nbformat_minor": 2
}
