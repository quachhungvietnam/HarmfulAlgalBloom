{
 "cells": [
  {
   "cell_type": "code",
   "execution_count": 1,
   "metadata": {},
   "outputs": [],
   "source": [
    "import pandas as pd\n",
    "import numpy as np\n",
    "from datetime import datetime\n",
    "import math\n",
    "from sklearn.metrics import r2_score, mean_squared_error\n",
    "import matplotlib.pyplot as plt\n",
    "from itertools import combinations\n",
    "from sklearn.model_selection import LeaveOneOut\n",
    "from sklearn.linear_model import LogisticRegression"
   ]
  },
  {
   "cell_type": "code",
   "execution_count": 2,
   "metadata": {},
   "outputs": [],
   "source": [
    "def Clean_date(df):\n",
    "    \"\"\"\n",
    "    Transfer value in \"Collection_Date\" column in to Datetime object\n",
    "    \"\"\"   \n",
    "    df[\"Collection_Date\"] = list(map(lambda date: datetime.strptime(date, '%Y-%m-%d %H:%M:%S'),\n",
    "                                     df[\"Collection_Date\"]))\n",
    "    return df"
   ]
  },
  {
   "cell_type": "code",
   "execution_count": 9,
   "metadata": {},
   "outputs": [],
   "source": [
    "def Clean_date(df):\n",
    "    \"\"\"\n",
    "    Transfer value in \"Collection_Date\" column in to Datetime object\n",
    "    \"\"\"   \n",
    "    df[\"Collection_Date\"] = list(map(lambda date: datetime.strptime(date[:10], '%Y-%m-%d'),\n",
    "                                     df[\"Collection_Date\"]))\n",
    "    return df"
   ]
  },
  {
   "cell_type": "code",
   "execution_count": 3,
   "metadata": {},
   "outputs": [],
   "source": [
    "Station_list = [\"POLESOUT\", \"KISSR0.0\", \"LZ2\", \"S133\", \"TCNS228\", \"S135\",\n",
    "                \"FEBIN\", \"MBOXSOU\", \"MH24000\", \"FEBOUT\", \"L005\", \"L008\", \"LZ40\", \"L004\", \"S308C\",\n",
    "                \"PALMOUNT\", \"S169\", \"S236\", \"POLE3S\", \"RITTAE2\", \"LZ2FA\", \"L007\", \"PELBAY3\", \"L006\", \"LZ30\"]\n",
    "Variable_list = ['NITRATE+NITRITE-N', 'NITRITE-N', 'AMMONIA-N', 'KJELDAHL NITROGEN, TOTAL', 'PHOSPHATE, ORTHO AS P',\n",
    "                 'PHOSPHATE, TOTAL AS P', 'NITRATE-N', 'SILICA', 'CARBON, TOTAL ORGANIC', 'CARBON, DISSOLVED ORGANIC',\n",
    "                 'TOTAL NITROGEN', 'PHOSPHATE, DISSOLVED AS P', 'KJELDAHL NITROGEN, DIS', 'CARBON, TOTAL', \n",
    "                 'CARBON, TOTAL INORGANIC', 'NITROGEN, TOTAL DISSOLVED', 'CHLOROPHYLL-A(LC)']\n",
    "\n",
    "Others = ['CHLOROPHYLL-A', 'PHEOPHYTIN', 'CHLOROPHYLL-A, CORRECTED', \n",
    "         'CHLOROPHYLL-C', 'CAROTENOIDS', 'CHLOROPHYLL-B', 'CHLOROPHYLL-A(LC)', \n",
    "         'PHEOPHYTIN-A(LC)', 'CHLOROPHYLL-B(LC)', 'RESP. PLANKTONIC']\n",
    "\n",
    "Nitrogen_list = ['NITRATE+NITRITE-N', 'NITRITE-N', 'AMMONIA-N', 'KJELDAHL NITROGEN, TOTAL',\n",
    "                'TOTAL NITROGEN','NITRATE-N','KJELDAHL NITROGEN, DIS','NITROGEN, TOTAL DISSOLVED']\n",
    "Phosphorus_list = ['PHOSPHATE, ORTHO AS P','PHOSPHATE, TOTAL AS P','PHOSPHATE, DISSOLVED AS P']\n",
    "Carbon_list = ['CARBON, TOTAL ORGANIC', 'CARBON, DISSOLVED ORGANIC','CARBON, TOTAL','CARBON, TOTAL INORGANIC']"
   ]
  },
  {
   "cell_type": "code",
   "execution_count": 10,
   "metadata": {},
   "outputs": [],
   "source": [
    "def Data_clean_up_3(data, monthly_average=False):\n",
    "    \"\"\"\n",
    "    Similar to Data_clean_up_1, only change the Variable_list \n",
    "    and combining the chlorophyll-A (corrected) with chlorophyll-A (LC)\n",
    "    \"\"\"\n",
    "\n",
    "    #clean date: \n",
    "    data = Clean_date(data)\n",
    "    Variable_list = ['CHLOROPHYLL-A(LC)', 'CHLOROPHYLL-A, CORRECTED']\n",
    "    if monthly_average:\n",
    "        Time_array = []\n",
    "        for year in range(2000, 2020):\n",
    "            for month in range(1,13):\n",
    "                Time_array.append(datetime(year, month, 1))\n",
    "\n",
    "        clean_data = pd.DataFrame({\"MonthYear\": Time_array})\n",
    "\n",
    "        for variable in Variable_list:\n",
    "            Value_array = []\n",
    "            for time in Time_array:\n",
    "                #select rows based on the given date and variable:\n",
    "                index_given_time = [True if (x.month == time.month and x.year == time.year) else False for x in data[\"Collection_Date\"]]\n",
    "                index_given_variable = data[\"Test Name\"] == variable\n",
    "                #combine 2 criteria:\n",
    "                index_to_choose = index_given_time & index_given_variable\n",
    "\n",
    "                values = data.loc[index_to_choose, \"Value\"]\n",
    "                #Filter negative and NA values:\n",
    "                values = [x for x in values if (not math.isnan(x)) and x >= 0]\n",
    "\n",
    "                if len(values) > 0:\n",
    "                    Value_array.append(np.mean(values))\n",
    "\n",
    "                else:\n",
    "                    Value_array.append(None)\n",
    "\n",
    "            clean_data[variable] = Value_array\n",
    "        clean_data.fillna(value=np.nan,inplace=True)\n",
    "        \n",
    "    else:\n",
    "        group_data = []\n",
    "        for variable in Variable_list:\n",
    "            #select rows based on the given date and variable:\n",
    "            index_given_variable = data[\"Test Name\"] == variable\n",
    "            values = data.loc[index_given_variable, [\"Collection_Date\", \"Value\"]]\n",
    "            #Filter negative and NA values:\n",
    "            values.dropna(inplace=True)\n",
    "            values = values.loc[values[\"Value\"]>=0]\n",
    "            values = values.rename(columns={\"Value\":variable})\n",
    "            group_data.append(values)\n",
    "        #clean_data = pd.concat(group_data)\n",
    "        clean_data = group_data[0]\n",
    "        for data in group_data[1:]:\n",
    "            clean_data = clean_data.merge(data, on=[\"Collection_Date\"], how='left')\n",
    "        \n",
    "    if sum(list(clean_data[['CHLOROPHYLL-A(LC)', 'CHLOROPHYLL-A, CORRECTED']].describe().loc[\"count\",:])) != 0:\n",
    "        clean_data[\"FINAL CHLOROPHYLL-A\"] = np.nanmean(clean_data[['CHLOROPHYLL-A(LC)', 'CHLOROPHYLL-A, CORRECTED']], axis=1)\n",
    "    return clean_data"
   ]
  },
  {
   "cell_type": "code",
   "execution_count": 24,
   "metadata": {},
   "outputs": [
    {
     "data": {
      "text/plain": [
       "Index(['CHLOROPHYLL-A(LC)', 'Date', 'CHLOROPHYLL-A, CORRECTED', 'Station'], dtype='object')"
      ]
     },
     "execution_count": 24,
     "metadata": {},
     "output_type": "execute_result"
    }
   ],
   "source": [
    "station_data.columns"
   ]
  },
  {
   "cell_type": "code",
   "execution_count": 26,
   "metadata": {},
   "outputs": [
    {
     "name": "stderr",
     "output_type": "stream",
     "text": [
      "/opt/anaconda3/lib/python3.7/site-packages/IPython/core/interactiveshell.py:3058: DtypeWarning: Columns (9,14,15,18,25,27,31,32,38) have mixed types. Specify dtype option on import or set low_memory=False.\n",
      "  interactivity=interactivity, compiler=compiler, result=result)\n",
      "/opt/anaconda3/lib/python3.7/site-packages/IPython/core/interactiveshell.py:3058: DtypeWarning: Columns (17,26,38) have mixed types. Specify dtype option on import or set low_memory=False.\n",
      "  interactivity=interactivity, compiler=compiler, result=result)\n",
      "/opt/anaconda3/lib/python3.7/site-packages/IPython/core/interactiveshell.py:3058: DtypeWarning: Columns (9,17,18,26,38) have mixed types. Specify dtype option on import or set low_memory=False.\n",
      "  interactivity=interactivity, compiler=compiler, result=result)\n",
      "/opt/anaconda3/lib/python3.7/site-packages/IPython/core/interactiveshell.py:3058: DtypeWarning: Columns (18,26,38) have mixed types. Specify dtype option on import or set low_memory=False.\n",
      "  interactivity=interactivity, compiler=compiler, result=result)\n"
     ]
    }
   ],
   "source": [
    "full_data = []\n",
    "for station in Station_list:\n",
    "    station_data = Data_clean_up_3(pd.read_csv(f\"{station}.csv\"), monthly_average=False).sort_values(by='Collection_Date', ascending=True)\n",
    "    if \"FINAL CHLOROPHYLL-A\" in list(station_data.columns):\n",
    "        station_data.rename(columns={\"Collection_Date\":\"Date\"}, inplace=True)\n",
    "        station_data.rename(columns={\"FINAL CHLOROPHYLL-A\":\"In Situ ChlA\"}, inplace=True)\n",
    "        station_data[\"Station\"] = [station for i in range(len(station_data))]\n",
    "        full_data.append(station_data[[\"Date\",\"Station\",\"In Situ ChlA\"]])"
   ]
  },
  {
   "cell_type": "code",
   "execution_count": null,
   "metadata": {},
   "outputs": [],
   "source": []
  }
 ],
 "metadata": {
  "kernelspec": {
   "display_name": "Python 3",
   "language": "python",
   "name": "python3"
  },
  "language_info": {
   "codemirror_mode": {
    "name": "ipython",
    "version": 3
   },
   "file_extension": ".py",
   "mimetype": "text/x-python",
   "name": "python",
   "nbconvert_exporter": "python",
   "pygments_lexer": "ipython3",
   "version": "3.7.4"
  }
 },
 "nbformat": 4,
 "nbformat_minor": 2
}
