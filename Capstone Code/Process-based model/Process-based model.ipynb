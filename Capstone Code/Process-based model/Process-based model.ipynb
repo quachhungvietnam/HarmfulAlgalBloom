{
 "cells": [
  {
   "cell_type": "code",
   "execution_count": 1,
   "metadata": {},
   "outputs": [],
   "source": [
    "import numpy as np\n",
    "import matplotlib.pyplot as plt"
   ]
  },
  {
   "cell_type": "code",
   "execution_count": 9,
   "metadata": {},
   "outputs": [],
   "source": [
    "class LV_model:\n",
    "    def __init__(self, theta=0.1, omega=0.2):\n",
    "        self.theta = theta\n",
    "        self.omega = omega\n",
    "        self.phy = [1]\n",
    "        self.nutrient = [10]\n",
    "        \n",
    "    def phy_rate(self):\n",
    "        return self.theta*self.phy[-1]*self.nutrient[-1]\n",
    "    \n",
    "    def nutrient_rate(self):\n",
    "        return 100 - self.phy[-1]*self.omega*self.nutrient[-1]\n",
    "    \n",
    "    def update(self):\n",
    "        self.phy.append(self.phy[-1]+self.phy_rate())\n",
    "        self.nutrient.append(self.nutrient[-1]+self.nutrient_rate())"
   ]
  },
  {
   "cell_type": "code",
   "execution_count": 11,
   "metadata": {},
   "outputs": [
    {
     "data": {
      "image/png": "[encoded data removed]",
      "text/plain": [
       "<Figure size 432x288 with 1 Axes>"
      ]
     },
     "metadata": {
      "needs_background": "light"
     },
     "output_type": "display_data"
    }
   ],
   "source": [
    "sim = LV_model(theta=1)\n",
    "\n",
    "for _ in range(100):\n",
    "    sim.update()\n",
    "    \n",
    "plt.plot(range(len(sim.phy)), sim.phy, label=\"Phy\")\n",
    "plt.plot(range(len(sim.nutrient)), sim.nutrient, label=\"Nutrient\")\n",
    "plt.legend()\n",
    "plt.show()"
   ]
  },
  {
   "cell_type": "code",
   "execution_count": null,
   "metadata": {},
   "outputs": [],
   "source": []
  }
 ],
 "metadata": {
  "kernelspec": {
   "display_name": "Python 3",
   "language": "python",
   "name": "python3"
  },
  "language_info": {
   "codemirror_mode": {
    "name": "ipython",
    "version": 3
   },
   "file_extension": ".py",
   "mimetype": "text/x-python",
   "name": "python",
   "nbconvert_exporter": "python",
   "pygments_lexer": "ipython3",
   "version": "3.7.4"
  }
 },
 "nbformat": 4,
 "nbformat_minor": 2
}
